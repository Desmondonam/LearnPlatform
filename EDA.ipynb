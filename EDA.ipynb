{
 "cells": [
  {
   "cell_type": "markdown",
   "id": "23f3842d",
   "metadata": {},
   "source": [
    "## Loading the data "
   ]
  },
  {
   "cell_type": "code",
   "execution_count": 4,
   "id": "18321ef7",
   "metadata": {},
   "outputs": [],
   "source": [
    "# import the neccesary libtraries\n",
    "import numpy as np\n",
    "import pandas as pd \n",
    "import seaborn as sns\n",
    "import matplotlib.pyplot as plt\n",
    "import re\n",
    "import plotly.express as px\n",
    "import plotly.graph_objects as go\n",
    "from plotly.subplots import make_subplots\n",
    "import warnings\n",
    "warnings.filterwarnings(\"ignore\")\n",
    "\n"
   ]
  },
  {
   "cell_type": "code",
   "execution_count": 5,
   "id": "4526fa12",
   "metadata": {},
   "outputs": [],
   "source": [
    "districts_info = pd.read_csv(\"D:/10 Academy/Week8/districts_info.csv\")\n",
    "products_info = pd.read_csv(\"D:/10 Academy/products_info.csv\")"
   ]
  },
  {
   "cell_type": "markdown",
   "id": "3daaaaa9",
   "metadata": {},
   "source": [
    "## District data View"
   ]
  },
  {
   "cell_type": "code",
   "execution_count": 6,
   "id": "01396eaa",
   "metadata": {
    "scrolled": true
   },
   "outputs": [
    {
     "data": {
      "text/html": [
       "<div>\n",
       "<style scoped>\n",
       "    .dataframe tbody tr th:only-of-type {\n",
       "        vertical-align: middle;\n",
       "    }\n",
       "\n",
       "    .dataframe tbody tr th {\n",
       "        vertical-align: top;\n",
       "    }\n",
       "\n",
       "    .dataframe thead th {\n",
       "        text-align: right;\n",
       "    }\n",
       "</style>\n",
       "<table border=\"1\" class=\"dataframe\">\n",
       "  <thead>\n",
       "    <tr style=\"text-align: right;\">\n",
       "      <th></th>\n",
       "      <th>district_id</th>\n",
       "      <th>state</th>\n",
       "      <th>locale</th>\n",
       "      <th>pct_black/hispanic</th>\n",
       "      <th>pct_free/reduced</th>\n",
       "      <th>county_connections_ratio</th>\n",
       "      <th>pp_total_raw</th>\n",
       "    </tr>\n",
       "  </thead>\n",
       "  <tbody>\n",
       "    <tr>\n",
       "      <th>0</th>\n",
       "      <td>8815</td>\n",
       "      <td>Illinois</td>\n",
       "      <td>Suburb</td>\n",
       "      <td>[0, 0.2[</td>\n",
       "      <td>[0, 0.2[</td>\n",
       "      <td>[0.18, 1[</td>\n",
       "      <td>[14000, 16000[</td>\n",
       "    </tr>\n",
       "    <tr>\n",
       "      <th>1</th>\n",
       "      <td>2685</td>\n",
       "      <td>NaN</td>\n",
       "      <td>NaN</td>\n",
       "      <td>NaN</td>\n",
       "      <td>NaN</td>\n",
       "      <td>NaN</td>\n",
       "      <td>NaN</td>\n",
       "    </tr>\n",
       "    <tr>\n",
       "      <th>2</th>\n",
       "      <td>4921</td>\n",
       "      <td>Utah</td>\n",
       "      <td>Suburb</td>\n",
       "      <td>[0, 0.2[</td>\n",
       "      <td>[0.2, 0.4[</td>\n",
       "      <td>[0.18, 1[</td>\n",
       "      <td>[6000, 8000[</td>\n",
       "    </tr>\n",
       "    <tr>\n",
       "      <th>3</th>\n",
       "      <td>3188</td>\n",
       "      <td>NaN</td>\n",
       "      <td>NaN</td>\n",
       "      <td>NaN</td>\n",
       "      <td>NaN</td>\n",
       "      <td>NaN</td>\n",
       "      <td>NaN</td>\n",
       "    </tr>\n",
       "    <tr>\n",
       "      <th>4</th>\n",
       "      <td>2238</td>\n",
       "      <td>NaN</td>\n",
       "      <td>NaN</td>\n",
       "      <td>NaN</td>\n",
       "      <td>NaN</td>\n",
       "      <td>NaN</td>\n",
       "      <td>NaN</td>\n",
       "    </tr>\n",
       "  </tbody>\n",
       "</table>\n",
       "</div>"
      ],
      "text/plain": [
       "   district_id     state  locale pct_black/hispanic pct_free/reduced  \\\n",
       "0         8815  Illinois  Suburb           [0, 0.2[         [0, 0.2[   \n",
       "1         2685       NaN     NaN                NaN              NaN   \n",
       "2         4921      Utah  Suburb           [0, 0.2[       [0.2, 0.4[   \n",
       "3         3188       NaN     NaN                NaN              NaN   \n",
       "4         2238       NaN     NaN                NaN              NaN   \n",
       "\n",
       "  county_connections_ratio    pp_total_raw  \n",
       "0                [0.18, 1[  [14000, 16000[  \n",
       "1                      NaN             NaN  \n",
       "2                [0.18, 1[    [6000, 8000[  \n",
       "3                      NaN             NaN  \n",
       "4                      NaN             NaN  "
      ]
     },
     "execution_count": 6,
     "metadata": {},
     "output_type": "execute_result"
    }
   ],
   "source": [
    "districts_info.head()"
   ]
  },
  {
   "cell_type": "code",
   "execution_count": 7,
   "id": "2a5487fa",
   "metadata": {},
   "outputs": [
    {
     "data": {
      "text/plain": [
       "(233, 7)"
      ]
     },
     "execution_count": 7,
     "metadata": {},
     "output_type": "execute_result"
    }
   ],
   "source": [
    "districts_info.shape"
   ]
  },
  {
   "cell_type": "code",
   "execution_count": 9,
   "id": "b99add81",
   "metadata": {},
   "outputs": [
    {
     "name": "stdout",
     "output_type": "stream",
     "text": [
      "The district dataset contains 27.1 % missing values.\n"
     ]
    }
   ],
   "source": [
    "# a look at the percentage of the  missing data\n",
    "def percent_missing(df):\n",
    "\n",
    "    # Calculate total number of cells in dataframe\n",
    "    totalCells = np.product(df.shape)\n",
    "\n",
    "    # Count number of missing values per column\n",
    "    missingCount = df.isnull().sum()\n",
    "\n",
    "    # Calculate total number of missing values\n",
    "    totalMissing = missingCount.sum()\n",
    "\n",
    "    # Calculate percentage of missing values\n",
    "    print(\"The district dataset contains\", round(((totalMissing/totalCells) * 100), 2), \"%\", \"missing values.\")\n",
    "\n",
    "percent_missing(districts_info)"
   ]
  },
  {
   "cell_type": "code",
   "execution_count": 11,
   "id": "0bb96f68",
   "metadata": {},
   "outputs": [
    {
     "data": {
      "text/plain": [
       "district_id                   0\n",
       "state                        57\n",
       "locale                       57\n",
       "pct_black/hispanic           57\n",
       "pct_free/reduced             85\n",
       "county_connections_ratio     71\n",
       "pp_total_raw                115\n",
       "dtype: int64"
      ]
     },
     "execution_count": 11,
     "metadata": {},
     "output_type": "execute_result"
    }
   ],
   "source": [
    "# columns and the missing values\n",
    " \n",
    "districts_info.isna().sum()"
   ]
  },
  {
   "cell_type": "markdown",
   "id": "840fead4",
   "metadata": {},
   "source": [
    "From the data we can observe that there are a lot of missing values with teh highest percentage fo teh missing values from the one in the \n",
    "free/ reduced column. Therefore we are going to look at a way we can make good inference at the end with this missing values. "
   ]
  },
  {
   "cell_type": "markdown",
   "id": "3da8e2e7",
   "metadata": {},
   "source": [
    "dropping the row for states that are not very ompactful in the data engimeering"
   ]
  },
  {
   "cell_type": "code",
   "execution_count": 12,
   "id": "7171b62a",
   "metadata": {},
   "outputs": [],
   "source": [
    "#dropping nulls states \n",
    "districts_info = districts_info[districts_info.state.notna()].reset_index(drop=True)"
   ]
  },
  {
   "cell_type": "code",
   "execution_count": 13,
   "id": "5da29e3b",
   "metadata": {},
   "outputs": [
    {
     "data": {
      "text/plain": [
       "district_id                  0\n",
       "state                        0\n",
       "locale                       0\n",
       "pct_black/hispanic           0\n",
       "pct_free/reduced            28\n",
       "county_connections_ratio    14\n",
       "pp_total_raw                58\n",
       "dtype: int64"
      ]
     },
     "execution_count": 13,
     "metadata": {},
     "output_type": "execute_result"
    }
   ],
   "source": [
    "districts_info.isna().sum()"
   ]
  },
  {
   "cell_type": "code",
   "execution_count": 14,
   "id": "fe169396",
   "metadata": {},
   "outputs": [],
   "source": [
    "# fill missing with ffill method for columns \n",
    "# Forward fill. \n",
    "\n",
    "def fix_missing_ffill(df, col):\n",
    "    df[col] = df[col].fillna(method='ffill')\n",
    "    return df[col]\n",
    "\n",
    "\n",
    "def fix_missing_bfill(df, col):\n",
    "    df[col] = df[col].fillna(method='bfill')\n",
    "    return df[col]\n",
    "\n",
    "districts_info['pct_free/reduced'] = fix_missing_ffill(districts_info, 'pct_free/reduced')\n",
    "districts_info['county_connections_ratio'] = fix_missing_ffill(districts_info, 'county_connections_ratio')\n",
    "districts_info['pp_total_raw'] = fix_missing_ffill(districts_info, 'pp_total_raw')\n"
   ]
  },
  {
   "cell_type": "code",
   "execution_count": 15,
   "id": "d7a274f3",
   "metadata": {},
   "outputs": [
    {
     "data": {
      "text/plain": [
       "district_id                 0\n",
       "state                       0\n",
       "locale                      0\n",
       "pct_black/hispanic          0\n",
       "pct_free/reduced            0\n",
       "county_connections_ratio    0\n",
       "pp_total_raw                0\n",
       "dtype: int64"
      ]
     },
     "execution_count": 15,
     "metadata": {},
     "output_type": "execute_result"
    }
   ],
   "source": [
    "districts_info.isna().sum()\n"
   ]
  },
  {
   "cell_type": "code",
   "execution_count": 17,
   "id": "464da754",
   "metadata": {},
   "outputs": [
    {
     "data": {
      "text/html": [
       "<div>\n",
       "<style scoped>\n",
       "    .dataframe tbody tr th:only-of-type {\n",
       "        vertical-align: middle;\n",
       "    }\n",
       "\n",
       "    .dataframe tbody tr th {\n",
       "        vertical-align: top;\n",
       "    }\n",
       "\n",
       "    .dataframe thead th {\n",
       "        text-align: right;\n",
       "    }\n",
       "</style>\n",
       "<table border=\"1\" class=\"dataframe\">\n",
       "  <thead>\n",
       "    <tr style=\"text-align: right;\">\n",
       "      <th></th>\n",
       "      <th>district_id</th>\n",
       "      <th>state</th>\n",
       "      <th>locale</th>\n",
       "      <th>pct_black/hispanic</th>\n",
       "      <th>pct_free/reduced</th>\n",
       "      <th>pp_total_raw</th>\n",
       "    </tr>\n",
       "  </thead>\n",
       "  <tbody>\n",
       "    <tr>\n",
       "      <th>0</th>\n",
       "      <td>8815</td>\n",
       "      <td>Illinois</td>\n",
       "      <td>Suburb</td>\n",
       "      <td>0.1</td>\n",
       "      <td>0.1</td>\n",
       "      <td>15000</td>\n",
       "    </tr>\n",
       "    <tr>\n",
       "      <th>1</th>\n",
       "      <td>4921</td>\n",
       "      <td>Utah</td>\n",
       "      <td>Suburb</td>\n",
       "      <td>0.1</td>\n",
       "      <td>0.3</td>\n",
       "      <td>7000</td>\n",
       "    </tr>\n",
       "    <tr>\n",
       "      <th>2</th>\n",
       "      <td>5987</td>\n",
       "      <td>Wisconsin</td>\n",
       "      <td>Suburb</td>\n",
       "      <td>0.1</td>\n",
       "      <td>0.1</td>\n",
       "      <td>11000</td>\n",
       "    </tr>\n",
       "    <tr>\n",
       "      <th>3</th>\n",
       "      <td>3710</td>\n",
       "      <td>Utah</td>\n",
       "      <td>Suburb</td>\n",
       "      <td>0.1</td>\n",
       "      <td>0.5</td>\n",
       "      <td>7000</td>\n",
       "    </tr>\n",
       "    <tr>\n",
       "      <th>4</th>\n",
       "      <td>7177</td>\n",
       "      <td>North Carolina</td>\n",
       "      <td>Suburb</td>\n",
       "      <td>0.3</td>\n",
       "      <td>0.3</td>\n",
       "      <td>9000</td>\n",
       "    </tr>\n",
       "    <tr>\n",
       "      <th>5</th>\n",
       "      <td>9812</td>\n",
       "      <td>Utah</td>\n",
       "      <td>Suburb</td>\n",
       "      <td>0.1</td>\n",
       "      <td>0.3</td>\n",
       "      <td>7000</td>\n",
       "    </tr>\n",
       "    <tr>\n",
       "      <th>6</th>\n",
       "      <td>6584</td>\n",
       "      <td>North Carolina</td>\n",
       "      <td>Rural</td>\n",
       "      <td>0.5</td>\n",
       "      <td>0.7</td>\n",
       "      <td>9000</td>\n",
       "    </tr>\n",
       "    <tr>\n",
       "      <th>7</th>\n",
       "      <td>1044</td>\n",
       "      <td>Missouri</td>\n",
       "      <td>Suburb</td>\n",
       "      <td>0.1</td>\n",
       "      <td>0.1</td>\n",
       "      <td>11000</td>\n",
       "    </tr>\n",
       "    <tr>\n",
       "      <th>8</th>\n",
       "      <td>7457</td>\n",
       "      <td>Washington</td>\n",
       "      <td>City</td>\n",
       "      <td>0.5</td>\n",
       "      <td>0.5</td>\n",
       "      <td>13000</td>\n",
       "    </tr>\n",
       "    <tr>\n",
       "      <th>9</th>\n",
       "      <td>1904</td>\n",
       "      <td>Connecticut</td>\n",
       "      <td>Rural</td>\n",
       "      <td>0.1</td>\n",
       "      <td>0.1</td>\n",
       "      <td>13000</td>\n",
       "    </tr>\n",
       "  </tbody>\n",
       "</table>\n",
       "</div>"
      ],
      "text/plain": [
       "   district_id           state  locale  pct_black/hispanic  pct_free/reduced  \\\n",
       "0         8815        Illinois  Suburb                 0.1               0.1   \n",
       "1         4921            Utah  Suburb                 0.1               0.3   \n",
       "2         5987       Wisconsin  Suburb                 0.1               0.1   \n",
       "3         3710            Utah  Suburb                 0.1               0.5   \n",
       "4         7177  North Carolina  Suburb                 0.3               0.3   \n",
       "5         9812            Utah  Suburb                 0.1               0.3   \n",
       "6         6584  North Carolina   Rural                 0.5               0.7   \n",
       "7         1044        Missouri  Suburb                 0.1               0.1   \n",
       "8         7457      Washington    City                 0.5               0.5   \n",
       "9         1904     Connecticut   Rural                 0.1               0.1   \n",
       "\n",
       "   pp_total_raw  \n",
       "0         15000  \n",
       "1          7000  \n",
       "2         11000  \n",
       "3          7000  \n",
       "4          9000  \n",
       "5          7000  \n",
       "6          9000  \n",
       "7         11000  \n",
       "8         13000  \n",
       "9         13000  "
      ]
     },
     "execution_count": 17,
     "metadata": {},
     "output_type": "execute_result"
    }
   ],
   "source": [
    "for i in ['pct_black/hispanic', 'pct_free/reduced']:\n",
    "    districts_info[i] = districts_info[i].apply(lambda x: float(x.split(',')[0][1:]) + 0.1)\n",
    "\n",
    "districts_info['pp_total_raw'] = districts_info['pp_total_raw'].apply(lambda x: int(x.split(',')[0][1:]) + 1000)\n",
    "\n",
    "districts_info.drop('county_connections_ratio', axis = 1, inplace = True)\n",
    "\n",
    "districts_info.head(10)"
   ]
  },
  {
   "cell_type": "code",
   "execution_count": 9,
   "id": "e4d272fc",
   "metadata": {},
   "outputs": [
    {
     "data": {
      "text/html": [
       "<div>\n",
       "<style scoped>\n",
       "    .dataframe tbody tr th:only-of-type {\n",
       "        vertical-align: middle;\n",
       "    }\n",
       "\n",
       "    .dataframe tbody tr th {\n",
       "        vertical-align: top;\n",
       "    }\n",
       "\n",
       "    .dataframe thead th {\n",
       "        text-align: right;\n",
       "    }\n",
       "</style>\n",
       "<table border=\"1\" class=\"dataframe\">\n",
       "  <thead>\n",
       "    <tr style=\"text-align: right;\">\n",
       "      <th></th>\n",
       "      <th>LP ID</th>\n",
       "      <th>URL</th>\n",
       "      <th>Product Name</th>\n",
       "      <th>Provider/Company Name</th>\n",
       "      <th>Sector(s)</th>\n",
       "      <th>Primary Essential Function</th>\n",
       "    </tr>\n",
       "  </thead>\n",
       "  <tbody>\n",
       "    <tr>\n",
       "      <th>0</th>\n",
       "      <td>13117</td>\n",
       "      <td>https://www.splashmath.com</td>\n",
       "      <td>SplashLearn</td>\n",
       "      <td>StudyPad Inc.</td>\n",
       "      <td>PreK-12</td>\n",
       "      <td>LC - Digital Learning Platforms</td>\n",
       "    </tr>\n",
       "    <tr>\n",
       "      <th>1</th>\n",
       "      <td>66933</td>\n",
       "      <td>https://abcmouse.com</td>\n",
       "      <td>ABCmouse.com</td>\n",
       "      <td>Age of Learning, Inc</td>\n",
       "      <td>PreK-12</td>\n",
       "      <td>LC - Digital Learning Platforms</td>\n",
       "    </tr>\n",
       "    <tr>\n",
       "      <th>2</th>\n",
       "      <td>50479</td>\n",
       "      <td>https://www.abcya.com</td>\n",
       "      <td>ABCya!</td>\n",
       "      <td>ABCya.com, LLC</td>\n",
       "      <td>PreK-12</td>\n",
       "      <td>LC - Sites, Resources &amp; Reference - Games &amp; Simulations</td>\n",
       "    </tr>\n",
       "    <tr>\n",
       "      <th>3</th>\n",
       "      <td>92993</td>\n",
       "      <td>http://www.aleks.com/</td>\n",
       "      <td>ALEKS</td>\n",
       "      <td>McGraw-Hill PreK-12</td>\n",
       "      <td>PreK-12; Higher Ed</td>\n",
       "      <td>LC - Digital Learning Platforms</td>\n",
       "    </tr>\n",
       "    <tr>\n",
       "      <th>4</th>\n",
       "      <td>73104</td>\n",
       "      <td>https://www.achieve3000.com/</td>\n",
       "      <td>Achieve3000</td>\n",
       "      <td>Achieve3000</td>\n",
       "      <td>PreK-12</td>\n",
       "      <td>LC - Digital Learning Platforms</td>\n",
       "    </tr>\n",
       "  </tbody>\n",
       "</table>\n",
       "</div>"
      ],
      "text/plain": [
       "   LP ID                           URL  Product Name  Provider/Company Name  \\\n",
       "0  13117    https://www.splashmath.com   SplashLearn          StudyPad Inc.   \n",
       "1  66933          https://abcmouse.com  ABCmouse.com  Age of Learning, Inc    \n",
       "2  50479         https://www.abcya.com        ABCya!         ABCya.com, LLC   \n",
       "3  92993         http://www.aleks.com/         ALEKS    McGraw-Hill PreK-12   \n",
       "4  73104  https://www.achieve3000.com/   Achieve3000            Achieve3000   \n",
       "\n",
       "            Sector(s)                               Primary Essential Function  \n",
       "0             PreK-12                          LC - Digital Learning Platforms  \n",
       "1             PreK-12                          LC - Digital Learning Platforms  \n",
       "2             PreK-12  LC - Sites, Resources & Reference - Games & Simulations  \n",
       "3  PreK-12; Higher Ed                          LC - Digital Learning Platforms  \n",
       "4             PreK-12                          LC - Digital Learning Platforms  "
      ]
     },
     "execution_count": 9,
     "metadata": {},
     "output_type": "execute_result"
    }
   ],
   "source": [
    "products_info.head()"
   ]
  },
  {
   "cell_type": "markdown",
   "id": "f12b770b",
   "metadata": {},
   "source": [
    "## Engagement data "
   ]
  },
  {
   "cell_type": "code",
   "execution_count": null,
   "id": "2f88ccd4",
   "metadata": {},
   "outputs": [],
   "source": []
  },
  {
   "cell_type": "code",
   "execution_count": null,
   "id": "463def71",
   "metadata": {},
   "outputs": [],
   "source": []
  },
  {
   "cell_type": "markdown",
   "id": "ce58114a",
   "metadata": {},
   "source": [
    "Look at the engagement"
   ]
  },
  {
   "cell_type": "code",
   "execution_count": 4,
   "id": "a0fdcfe1",
   "metadata": {},
   "outputs": [
    {
     "data": {
      "text/html": [
       "<div>\n",
       "<style scoped>\n",
       "    .dataframe tbody tr th:only-of-type {\n",
       "        vertical-align: middle;\n",
       "    }\n",
       "\n",
       "    .dataframe tbody tr th {\n",
       "        vertical-align: top;\n",
       "    }\n",
       "\n",
       "    .dataframe thead th {\n",
       "        text-align: right;\n",
       "    }\n",
       "</style>\n",
       "<table border=\"1\" class=\"dataframe\">\n",
       "  <thead>\n",
       "    <tr style=\"text-align: right;\">\n",
       "      <th></th>\n",
       "      <th>description</th>\n",
       "    </tr>\n",
       "  </thead>\n",
       "  <tbody>\n",
       "    <tr>\n",
       "      <th>time</th>\n",
       "      <td>date in \"YYYY-MM-DD\"</td>\n",
       "    </tr>\n",
       "    <tr>\n",
       "      <th>lp_id</th>\n",
       "      <td>The unique identifier of the product</td>\n",
       "    </tr>\n",
       "    <tr>\n",
       "      <th>pct_access</th>\n",
       "      <td>Percentage of students in the district have at...</td>\n",
       "    </tr>\n",
       "    <tr>\n",
       "      <th>engagement_index</th>\n",
       "      <td>Total page-load events per one thousand studen...</td>\n",
       "    </tr>\n",
       "  </tbody>\n",
       "</table>\n",
       "</div>"
      ],
      "text/plain": [
       "                                                        description\n",
       "time                                           date in \"YYYY-MM-DD\"\n",
       "lp_id                          The unique identifier of the product\n",
       "pct_access        Percentage of students in the district have at...\n",
       "engagement_index  Total page-load events per one thousand studen..."
      ]
     },
     "execution_count": 4,
     "metadata": {},
     "output_type": "execute_result"
    }
   ],
   "source": [
    "engagement_dict = {\n",
    "    \"time\":\t\"date in \\\"YYYY-MM-DD\\\"\",\n",
    "    \"lp_id\" :\t\"The unique identifier of the product\",\n",
    "    \"pct_access\" :\t\"Percentage of students in the district have at least one page-load event of a given product and on a given day\",\n",
    "    \"engagement_index\"\t: \"Total page-load events per one thousand students of a given product and on a given day\"\n",
    "}\n",
    "pd.DataFrame.from_dict(engagement_dict, orient=\"index\", columns=[\"description\"])"
   ]
  },
  {
   "cell_type": "markdown",
   "id": "3dc0b44c",
   "metadata": {},
   "source": [
    "A look at the district Data"
   ]
  },
  {
   "cell_type": "code",
   "execution_count": 5,
   "id": "487ca9d8",
   "metadata": {},
   "outputs": [
    {
     "data": {
      "text/html": [
       "<div>\n",
       "<style scoped>\n",
       "    .dataframe tbody tr th:only-of-type {\n",
       "        vertical-align: middle;\n",
       "    }\n",
       "\n",
       "    .dataframe tbody tr th {\n",
       "        vertical-align: top;\n",
       "    }\n",
       "\n",
       "    .dataframe thead th {\n",
       "        text-align: right;\n",
       "    }\n",
       "</style>\n",
       "<table border=\"1\" class=\"dataframe\">\n",
       "  <thead>\n",
       "    <tr style=\"text-align: right;\">\n",
       "      <th></th>\n",
       "      <th>description</th>\n",
       "    </tr>\n",
       "  </thead>\n",
       "  <tbody>\n",
       "    <tr>\n",
       "      <th>district_id</th>\n",
       "      <td>The unique identifier of the school district</td>\n",
       "    </tr>\n",
       "    <tr>\n",
       "      <th>state</th>\n",
       "      <td>The state where the district resides in</td>\n",
       "    </tr>\n",
       "    <tr>\n",
       "      <th>locale</th>\n",
       "      <td>NCES locale classification that categorizes U.S. territory into four types of areas: City, Suburban, Town, and Rural. See Locale Boundaries User's Manual for more information.</td>\n",
       "    </tr>\n",
       "    <tr>\n",
       "      <th>pct_black/hispanic</th>\n",
       "      <td>Percentage of students in the districts identified as Black or Hispanic based on 2018-19 NCES data</td>\n",
       "    </tr>\n",
       "    <tr>\n",
       "      <th>pct_free/reduced</th>\n",
       "      <td>Percentage of students in the districts eligible for free or reduced-price lunch based on 2018-19 NCES data</td>\n",
       "    </tr>\n",
       "    <tr>\n",
       "      <th>countyconnectionsratio</th>\n",
       "      <td>ratio (residential fixed high-speed connections over 200 kbps in at least one direction/households) based on the county level data from FCC From 477 (December 2018 version). See FCC data for more information.</td>\n",
       "    </tr>\n",
       "    <tr>\n",
       "      <th>pptotalraw</th>\n",
       "      <td>Per-pupil total expenditupd.set_option('display.max_rows', 500)re (sum of local and federal expenditure) from Edunomics Lab's National Education Resource Database on Schools (NERD$) project. The expenditure data are school-by-school, and we use the median value to represent the expenditure of a given school district.</td>\n",
       "    </tr>\n",
       "  </tbody>\n",
       "</table>\n",
       "</div>"
      ],
      "text/plain": [
       "                                                                                                                                                                                                                                                                                                                                           description\n",
       "district_id                                                                                                                                                                                                                                                                                               The unique identifier of the school district\n",
       "state                                                                                                                                                                                                                                                                                                          The state where the district resides in\n",
       "locale                                                                                                                                                                 NCES locale classification that categorizes U.S. territory into four types of areas: City, Suburban, Town, and Rural. See Locale Boundaries User's Manual for more information.\n",
       "pct_black/hispanic                                                                                                                                                                                                                                  Percentage of students in the districts identified as Black or Hispanic based on 2018-19 NCES data\n",
       "pct_free/reduced                                                                                                                                                                                                                           Percentage of students in the districts eligible for free or reduced-price lunch based on 2018-19 NCES data\n",
       "countyconnectionsratio                                                                                                                ratio (residential fixed high-speed connections over 200 kbps in at least one direction/households) based on the county level data from FCC From 477 (December 2018 version). See FCC data for more information.\n",
       "pptotalraw              Per-pupil total expenditupd.set_option('display.max_rows', 500)re (sum of local and federal expenditure) from Edunomics Lab's National Education Resource Database on Schools (NERD$) project. The expenditure data are school-by-school, and we use the median value to represent the expenditure of a given school district."
      ]
     },
     "execution_count": 5,
     "metadata": {},
     "output_type": "execute_result"
    }
   ],
   "source": [
    "pd.set_option('display.max_colwidth', None)  \n",
    "districts_info_desc = {\n",
    "    \"district_id\"\t: \"The unique identifier of the school district\",\n",
    "    \"state\" :\t\"The state where the district resides in\",\n",
    "    \"locale\" :\t\"NCES locale classification that categorizes U.S. territory into four types of areas: City, Suburban, Town, and Rural. See Locale Boundaries User's Manual for more information.\",\n",
    "    \"pct_black/hispanic\" :\t\"Percentage of students in the districts identified as Black or Hispanic based on 2018-19 NCES data\",\n",
    "    \"pct_free/reduced\" : \t\"Percentage of students in the districts eligible for free or reduced-price lunch based on 2018-19 NCES data\",\n",
    "    \"countyconnectionsratio\" :\t\"ratio (residential fixed high-speed connections over 200 kbps in at least one direction/households) based on the county level data from FCC From 477 (December 2018 version). See FCC data for more information.\",\n",
    "    \"pptotalraw\" :\t\"Per-pupil total expenditupd.set_option('display.max_rows', 500)re (sum of local and federal expenditure) from Edunomics Lab's National Education Resource Database on Schools (NERD$) project. The expenditure data are school-by-school, and we use the median value to represent the expenditure of a given school district.\"\n",
    "}\n",
    "pd.DataFrame.from_dict(districts_info_desc, orient=\"index\", columns=[\"description\"])"
   ]
  },
  {
   "cell_type": "markdown",
   "id": "e5617c0d",
   "metadata": {},
   "source": [
    "## Product Information "
   ]
  },
  {
   "cell_type": "markdown",
   "id": "2eb35d38",
   "metadata": {},
   "source": [
    "A look at the product information"
   ]
  },
  {
   "cell_type": "code",
   "execution_count": 8,
   "id": "207b12ee",
   "metadata": {},
   "outputs": [
    {
     "data": {
      "text/html": [
       "<div>\n",
       "<style scoped>\n",
       "    .dataframe tbody tr th:only-of-type {\n",
       "        vertical-align: middle;\n",
       "    }\n",
       "\n",
       "    .dataframe tbody tr th {\n",
       "        vertical-align: top;\n",
       "    }\n",
       "\n",
       "    .dataframe thead th {\n",
       "        text-align: right;\n",
       "    }\n",
       "</style>\n",
       "<table border=\"1\" class=\"dataframe\">\n",
       "  <thead>\n",
       "    <tr style=\"text-align: right;\">\n",
       "      <th></th>\n",
       "      <th>description</th>\n",
       "    </tr>\n",
       "  </thead>\n",
       "  <tbody>\n",
       "    <tr>\n",
       "      <th>LP ID</th>\n",
       "      <td>The unique identifier of the product</td>\n",
       "    </tr>\n",
       "    <tr>\n",
       "      <th>URL</th>\n",
       "      <td>Web Link to the specific product</td>\n",
       "    </tr>\n",
       "    <tr>\n",
       "      <th>Product Name</th>\n",
       "      <td>Name of the specific product</td>\n",
       "    </tr>\n",
       "    <tr>\n",
       "      <th>Provider/Company Name</th>\n",
       "      <td>Name of the product provider</td>\n",
       "    </tr>\n",
       "    <tr>\n",
       "      <th>Sector(s)</th>\n",
       "      <td>Sector of education where the product is used</td>\n",
       "    </tr>\n",
       "    <tr>\n",
       "      <th>Primary Essential Function</th>\n",
       "      <td>The basic function of the product. There are two layers of labels here. Products are first labeled as one of these three categories: LC = Learning &amp; Curriculum, CM = Classroom Management, and SDO = School &amp; District Operations. Each of these categories have multiple sub-categories with which the products were labeled</td>\n",
       "    </tr>\n",
       "  </tbody>\n",
       "</table>\n",
       "</div>"
      ],
      "text/plain": [
       "                                                                                                                                                                                                                                                                                                                                               description\n",
       "LP ID                                                                                                                                                                                                                                                                                                                 The unique identifier of the product\n",
       "URL                                                                                                                                                                                                                                                                                                                       Web Link to the specific product\n",
       "Product Name                                                                                                                                                                                                                                                                                                                  Name of the specific product\n",
       "Provider/Company Name                                                                                                                                                                                                                                                                                                         Name of the product provider\n",
       "Sector(s)                                                                                                                                                                                                                                                                                                    Sector of education where the product is used\n",
       "Primary Essential Function  The basic function of the product. There are two layers of labels here. Products are first labeled as one of these three categories: LC = Learning & Curriculum, CM = Classroom Management, and SDO = School & District Operations. Each of these categories have multiple sub-categories with which the products were labeled"
      ]
     },
     "execution_count": 8,
     "metadata": {},
     "output_type": "execute_result"
    }
   ],
   "source": [
    "products_info_desc = {\n",
    "    \"LP ID\"\t: \"The unique identifier of the product\",\n",
    "    \"URL\":\t\"Web Link to the specific product\",\n",
    "\"Product Name\" :\t\"Name of the specific product\",\n",
    "\"Provider/Company Name\" :\t\"Name of the product provider\",\n",
    "\"Sector(s)\"\t: \"Sector of education where the product is used\",\n",
    "\"Primary Essential Function\" :\t\"The basic function of the product. There are two layers of labels here. Products are first labeled as one of these three categories: LC = Learning & Curriculum, CM = Classroom Management, and SDO = School & District Operations. Each of these categories have multiple sub-categories with which the products were labeled\"\n",
    "}\n",
    "pd.DataFrame.from_dict(products_info_desc, orient=\"index\", columns=[\"description\"])"
   ]
  },
  {
   "cell_type": "code",
   "execution_count": 19,
   "id": "1874bbaf",
   "metadata": {},
   "outputs": [
    {
     "name": "stdout",
     "output_type": "stream",
     "text": [
      "<class 'pandas.core.frame.DataFrame'>\n",
      "RangeIndex: 372 entries, 0 to 371\n",
      "Data columns (total 6 columns):\n",
      " #   Column                      Non-Null Count  Dtype \n",
      "---  ------                      --------------  ----- \n",
      " 0   LP ID                       372 non-null    int64 \n",
      " 1   URL                         372 non-null    object\n",
      " 2   Product Name                372 non-null    object\n",
      " 3   Provider/Company Name       371 non-null    object\n",
      " 4   Sector(s)                   352 non-null    object\n",
      " 5   Primary Essential Function  352 non-null    object\n",
      "dtypes: int64(1), object(5)\n",
      "memory usage: 17.6+ KB\n"
     ]
    }
   ],
   "source": [
    "products_info.info()"
   ]
  },
  {
   "cell_type": "code",
   "execution_count": 21,
   "id": "6e4f2f77",
   "metadata": {},
   "outputs": [
    {
     "data": {
      "text/plain": [
       "LP ID                          0\n",
       "URL                            0\n",
       "Product Name                   0\n",
       "Provider/Company Name          1\n",
       "Sector(s)                     20\n",
       "Primary Essential Function    20\n",
       "dtype: int64"
      ]
     },
     "execution_count": 21,
     "metadata": {},
     "output_type": "execute_result"
    }
   ],
   "source": [
    "products_info.isna().sum()"
   ]
  },
  {
   "cell_type": "markdown",
   "id": "fff7bf03",
   "metadata": {},
   "source": [
    "We seperate the primary essential for a better understatnding of the data "
   ]
  },
  {
   "cell_type": "code",
   "execution_count": 27,
   "id": "f7fb5646",
   "metadata": {},
   "outputs": [
    {
     "data": {
      "text/html": [
       "<div>\n",
       "<style scoped>\n",
       "    .dataframe tbody tr th:only-of-type {\n",
       "        vertical-align: middle;\n",
       "    }\n",
       "\n",
       "    .dataframe tbody tr th {\n",
       "        vertical-align: top;\n",
       "    }\n",
       "\n",
       "    .dataframe thead th {\n",
       "        text-align: right;\n",
       "    }\n",
       "</style>\n",
       "<table border=\"1\" class=\"dataframe\">\n",
       "  <thead>\n",
       "    <tr style=\"text-align: right;\">\n",
       "      <th></th>\n",
       "      <th>LP ID</th>\n",
       "      <th>URL</th>\n",
       "      <th>Product Name</th>\n",
       "      <th>Provider/Company Name</th>\n",
       "      <th>Sector(s)</th>\n",
       "      <th>primary_function_main</th>\n",
       "      <th>primary_function_sub</th>\n",
       "    </tr>\n",
       "  </thead>\n",
       "  <tbody>\n",
       "    <tr>\n",
       "      <th>0</th>\n",
       "      <td>13117</td>\n",
       "      <td>https://www.splashmath.com</td>\n",
       "      <td>SplashLearn</td>\n",
       "      <td>StudyPad Inc.</td>\n",
       "      <td>PreK-12</td>\n",
       "      <td>LC</td>\n",
       "      <td>Digital Learning Platforms</td>\n",
       "    </tr>\n",
       "    <tr>\n",
       "      <th>1</th>\n",
       "      <td>66933</td>\n",
       "      <td>https://abcmouse.com</td>\n",
       "      <td>ABCmouse.com</td>\n",
       "      <td>Age of Learning, Inc</td>\n",
       "      <td>PreK-12</td>\n",
       "      <td>LC</td>\n",
       "      <td>Digital Learning Platforms</td>\n",
       "    </tr>\n",
       "    <tr>\n",
       "      <th>2</th>\n",
       "      <td>50479</td>\n",
       "      <td>https://www.abcya.com</td>\n",
       "      <td>ABCya!</td>\n",
       "      <td>ABCya.com, LLC</td>\n",
       "      <td>PreK-12</td>\n",
       "      <td>LC</td>\n",
       "      <td>Sites, Resources &amp; Reference</td>\n",
       "    </tr>\n",
       "    <tr>\n",
       "      <th>3</th>\n",
       "      <td>92993</td>\n",
       "      <td>http://www.aleks.com/</td>\n",
       "      <td>ALEKS</td>\n",
       "      <td>McGraw-Hill PreK-12</td>\n",
       "      <td>PreK-12; Higher Ed</td>\n",
       "      <td>LC</td>\n",
       "      <td>Digital Learning Platforms</td>\n",
       "    </tr>\n",
       "    <tr>\n",
       "      <th>4</th>\n",
       "      <td>73104</td>\n",
       "      <td>https://www.achieve3000.com/</td>\n",
       "      <td>Achieve3000</td>\n",
       "      <td>Achieve3000</td>\n",
       "      <td>PreK-12</td>\n",
       "      <td>LC</td>\n",
       "      <td>Digital Learning Platforms</td>\n",
       "    </tr>\n",
       "    <tr>\n",
       "      <th>...</th>\n",
       "      <td>...</td>\n",
       "      <td>...</td>\n",
       "      <td>...</td>\n",
       "      <td>...</td>\n",
       "      <td>...</td>\n",
       "      <td>...</td>\n",
       "      <td>...</td>\n",
       "    </tr>\n",
       "    <tr>\n",
       "      <th>367</th>\n",
       "      <td>88065</td>\n",
       "      <td>https://dochub.com/</td>\n",
       "      <td>DocHub</td>\n",
       "      <td>DocHub</td>\n",
       "      <td>PreK-12; Higher Ed; Corporate</td>\n",
       "      <td>SDO</td>\n",
       "      <td>Other</td>\n",
       "    </tr>\n",
       "    <tr>\n",
       "      <th>368</th>\n",
       "      <td>37805</td>\n",
       "      <td>http://google.com/slides/about/</td>\n",
       "      <td>Google Slides</td>\n",
       "      <td>Google LLC</td>\n",
       "      <td>PreK-12; Higher Ed; Corporate</td>\n",
       "      <td>LC</td>\n",
       "      <td>Content Creation &amp; Curation</td>\n",
       "    </tr>\n",
       "    <tr>\n",
       "      <th>369</th>\n",
       "      <td>32555</td>\n",
       "      <td>http://www.innersloth.com/gameAmongUs.php</td>\n",
       "      <td>Among Us</td>\n",
       "      <td>InnerSloth</td>\n",
       "      <td>PreK-12; Higher Ed</td>\n",
       "      <td>LC</td>\n",
       "      <td>Sites, Resources &amp; Reference</td>\n",
       "    </tr>\n",
       "    <tr>\n",
       "      <th>370</th>\n",
       "      <td>87841</td>\n",
       "      <td>http://edpuzzle.com</td>\n",
       "      <td>Edpuzzle - Free (Basic Plan)</td>\n",
       "      <td>EDpuzzle Inc.</td>\n",
       "      <td>PreK-12; Higher Ed</td>\n",
       "      <td>LC</td>\n",
       "      <td>Sites, Resources &amp; Reference</td>\n",
       "    </tr>\n",
       "    <tr>\n",
       "      <th>371</th>\n",
       "      <td>36254</td>\n",
       "      <td>http://www.truenorthlogic.com/</td>\n",
       "      <td>True North Logic</td>\n",
       "      <td>NaN</td>\n",
       "      <td>PreK-12; Higher Ed</td>\n",
       "      <td>LC</td>\n",
       "      <td>Sites, Resources &amp; Reference</td>\n",
       "    </tr>\n",
       "  </tbody>\n",
       "</table>\n",
       "<p>372 rows × 7 columns</p>\n",
       "</div>"
      ],
      "text/plain": [
       "     LP ID                                        URL  \\\n",
       "0    13117                 https://www.splashmath.com   \n",
       "1    66933                       https://abcmouse.com   \n",
       "2    50479                      https://www.abcya.com   \n",
       "3    92993                      http://www.aleks.com/   \n",
       "4    73104               https://www.achieve3000.com/   \n",
       "..     ...                                        ...   \n",
       "367  88065                        https://dochub.com/   \n",
       "368  37805            http://google.com/slides/about/   \n",
       "369  32555  http://www.innersloth.com/gameAmongUs.php   \n",
       "370  87841                        http://edpuzzle.com   \n",
       "371  36254             http://www.truenorthlogic.com/   \n",
       "\n",
       "                     Product Name  Provider/Company Name  \\\n",
       "0                     SplashLearn          StudyPad Inc.   \n",
       "1                    ABCmouse.com  Age of Learning, Inc    \n",
       "2                          ABCya!         ABCya.com, LLC   \n",
       "3                           ALEKS    McGraw-Hill PreK-12   \n",
       "4                     Achieve3000            Achieve3000   \n",
       "..                            ...                    ...   \n",
       "367                        DocHub                 DocHub   \n",
       "368                 Google Slides             Google LLC   \n",
       "369                      Among Us             InnerSloth   \n",
       "370  Edpuzzle - Free (Basic Plan)          EDpuzzle Inc.   \n",
       "371              True North Logic                    NaN   \n",
       "\n",
       "                         Sector(s) primary_function_main  \\\n",
       "0                          PreK-12                    LC   \n",
       "1                          PreK-12                    LC   \n",
       "2                          PreK-12                    LC   \n",
       "3               PreK-12; Higher Ed                    LC   \n",
       "4                          PreK-12                    LC   \n",
       "..                             ...                   ...   \n",
       "367  PreK-12; Higher Ed; Corporate                   SDO   \n",
       "368  PreK-12; Higher Ed; Corporate                    LC   \n",
       "369             PreK-12; Higher Ed                    LC   \n",
       "370             PreK-12; Higher Ed                    LC   \n",
       "371             PreK-12; Higher Ed                    LC   \n",
       "\n",
       "             primary_function_sub  \n",
       "0      Digital Learning Platforms  \n",
       "1      Digital Learning Platforms  \n",
       "2    Sites, Resources & Reference  \n",
       "3      Digital Learning Platforms  \n",
       "4      Digital Learning Platforms  \n",
       "..                            ...  \n",
       "367                         Other  \n",
       "368   Content Creation & Curation  \n",
       "369  Sites, Resources & Reference  \n",
       "370  Sites, Resources & Reference  \n",
       "371  Sites, Resources & Reference  \n",
       "\n",
       "[372 rows x 7 columns]"
      ]
     },
     "execution_count": 27,
     "metadata": {},
     "output_type": "execute_result"
    }
   ],
   "source": [
    "products_info['Sector(s)'] = fix_missing_ffill(products_info, 'Sector(s)')\n",
    "products_info['Primary Essential Function'] = fix_missing_ffill(products_info, 'Primary Essential Function')\n",
    "# Use of the ffill\n",
    "products_info['primary_function_main'] = products_info['Primary Essential Function'].apply(lambda x: x.split(' - ')[0] if x == x else x)\n",
    "products_info['primary_function_sub'] = products_info['Primary Essential Function'].apply(lambda x: x.split(' - ')[1] if x == x else x)\n",
    "\n",
    "products_info['primary_function_sub'] = products_info['primary_function_sub'].replace({'Sites, Resources & References' : 'Sites, Resources & Reference'})\n",
    "products_info.drop(\"Primary Essential Function\", axis=1, inplace=True)\n",
    "\n",
    "\n",
    "products_info"
   ]
  },
  {
   "cell_type": "code",
   "execution_count": 28,
   "id": "69024672",
   "metadata": {},
   "outputs": [
    {
     "data": {
      "text/plain": [
       "LP ID                    0\n",
       "URL                      0\n",
       "Product Name             0\n",
       "Provider/Company Name    1\n",
       "Sector(s)                0\n",
       "primary_function_main    0\n",
       "primary_function_sub     0\n",
       "dtype: int64"
      ]
     },
     "execution_count": 28,
     "metadata": {},
     "output_type": "execute_result"
    }
   ],
   "source": [
    "products_info.isna().sum()"
   ]
  },
  {
   "cell_type": "code",
   "execution_count": 30,
   "id": "28876a33",
   "metadata": {},
   "outputs": [],
   "source": [
    "products_info = products_info.dropna()"
   ]
  },
  {
   "cell_type": "code",
   "execution_count": 31,
   "id": "2ecf48db",
   "metadata": {},
   "outputs": [
    {
     "data": {
      "text/plain": [
       "LP ID                    0\n",
       "URL                      0\n",
       "Product Name             0\n",
       "Provider/Company Name    0\n",
       "Sector(s)                0\n",
       "primary_function_main    0\n",
       "primary_function_sub     0\n",
       "dtype: int64"
      ]
     },
     "execution_count": 31,
     "metadata": {},
     "output_type": "execute_result"
    }
   ],
   "source": [
    "products_info.isna().sum()"
   ]
  },
  {
   "cell_type": "code",
   "execution_count": 34,
   "id": "5fe5609d",
   "metadata": {},
   "outputs": [
    {
     "ename": "NameError",
     "evalue": "name 'engagement_dict' is not defined",
     "output_type": "error",
     "traceback": [
      "\u001b[1;31m---------------------------------------------------------------------------\u001b[0m",
      "\u001b[1;31mNameError\u001b[0m                                 Traceback (most recent call last)",
      "\u001b[1;32m<ipython-input-34-12268fdf443c>\u001b[0m in \u001b[0;36m<module>\u001b[1;34m\u001b[0m\n\u001b[1;32m----> 1\u001b[1;33m \u001b[0mmerged_data\u001b[0m \u001b[1;33m=\u001b[0m \u001b[0mpd\u001b[0m\u001b[1;33m.\u001b[0m\u001b[0mmerge\u001b[0m\u001b[1;33m(\u001b[0m\u001b[0mproducts_info\u001b[0m\u001b[1;33m,\u001b[0m \u001b[0mengagement_dict\u001b[0m\u001b[1;33m,\u001b[0m \u001b[0mleft_on\u001b[0m \u001b[1;33m=\u001b[0m \u001b[1;34m'LP ID'\u001b[0m\u001b[1;33m,\u001b[0m \u001b[0mright_on\u001b[0m \u001b[1;33m=\u001b[0m \u001b[1;34m'lp_id'\u001b[0m\u001b[1;33m)\u001b[0m\u001b[1;33m\u001b[0m\u001b[1;33m\u001b[0m\u001b[0m\n\u001b[0m\u001b[0;32m      2\u001b[0m \u001b[0mmerged_data\u001b[0m\u001b[1;33m[\u001b[0m\u001b[1;34m'district_id'\u001b[0m\u001b[1;33m]\u001b[0m \u001b[1;33m=\u001b[0m \u001b[0mmerged_data\u001b[0m\u001b[1;33m[\u001b[0m\u001b[1;34m'district_id'\u001b[0m\u001b[1;33m]\u001b[0m\u001b[1;33m.\u001b[0m\u001b[0mastype\u001b[0m\u001b[1;33m(\u001b[0m\u001b[1;34m'int64'\u001b[0m\u001b[1;33m)\u001b[0m\u001b[1;33m\u001b[0m\u001b[1;33m\u001b[0m\u001b[0m\n\u001b[0;32m      3\u001b[0m \u001b[0mmerged_data\u001b[0m \u001b[1;33m=\u001b[0m \u001b[0mpd\u001b[0m\u001b[1;33m.\u001b[0m\u001b[0mmerge\u001b[0m\u001b[1;33m(\u001b[0m\u001b[0mmerged_data\u001b[0m\u001b[1;33m,\u001b[0m \u001b[0mdistrict\u001b[0m\u001b[1;33m,\u001b[0m \u001b[0mon\u001b[0m \u001b[1;33m=\u001b[0m \u001b[1;34m'district_id'\u001b[0m\u001b[1;33m)\u001b[0m\u001b[1;33m\u001b[0m\u001b[1;33m\u001b[0m\u001b[0m\n\u001b[0;32m      4\u001b[0m \u001b[0mmerged_data\u001b[0m\u001b[1;33m.\u001b[0m\u001b[0mhead\u001b[0m\u001b[1;33m(\u001b[0m\u001b[1;36m3\u001b[0m\u001b[1;33m)\u001b[0m\u001b[1;33m\u001b[0m\u001b[1;33m\u001b[0m\u001b[0m\n",
      "\u001b[1;31mNameError\u001b[0m: name 'engagement_dict' is not defined"
     ]
    }
   ],
   "source": [
    "\n",
    "merged_data = pd.merge(products_info, engagement_dict, left_on = 'LP ID', right_on = 'lp_id')\n",
    "merged_data['district_id'] = merged_data['district_id'].astype('int64')\n",
    "merged_data = pd.merge(merged_data, district, on = 'district_id')\n",
    "merged_data.head(3)"
   ]
  },
  {
   "cell_type": "code",
   "execution_count": null,
   "id": "259a9bd5",
   "metadata": {},
   "outputs": [],
   "source": []
  }
 ],
 "metadata": {
  "kernelspec": {
   "display_name": "Python 3",
   "language": "python",
   "name": "python3"
  },
  "language_info": {
   "codemirror_mode": {
    "name": "ipython",
    "version": 3
   },
   "file_extension": ".py",
   "mimetype": "text/x-python",
   "name": "python",
   "nbconvert_exporter": "python",
   "pygments_lexer": "ipython3",
   "version": "3.8.8"
  }
 },
 "nbformat": 4,
 "nbformat_minor": 5
}
